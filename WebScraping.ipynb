{
 "cells": [
  {
   "cell_type": "code",
   "execution_count": null,
   "metadata": {
    "colab": {
     "base_uri": "https://localhost:8080/"
    },
    "id": "axSxqdfaAXls",
    "outputId": "075e8e11-a13b-4aba-d534-3ec836206c45"
   },
   "outputs": [
    {
     "name": "stdout",
     "output_type": "stream",
     "text": [
      "0          https://www.codechef.com/problems/DISCNT\n",
      "1         https://www.codechef.com/problems/MILEAGE\n",
      "2         https://www.codechef.com/problems/HOTCOLD\n",
      "3        https://www.codechef.com/problems/MAXTASTE\n",
      "4        https://www.codechef.com/problems/FAIRPASS\n",
      "5     https://www.codechef.com/problems/FILLCANDIES\n",
      "6      https://www.codechef.com/problems/CHEFONDATE\n",
      "7       https://www.codechef.com/problems/CHESSTIME\n",
      "8          https://www.codechef.com/problems/CNTWRD\n",
      "9         https://www.codechef.com/problems/M1ENROL\n",
      "10      https://www.codechef.com/problems/BESTOFTWO\n",
      "11      https://www.codechef.com/problems/CHANGEPOS\n",
      "12        https://www.codechef.com/problems/BIRYANI\n",
      "13      https://www.codechef.com/problems/AIRHOCKEY\n",
      "14        https://www.codechef.com/problems/BURGERS\n",
      "15       https://www.codechef.com/problems/WAITTIME\n",
      "16       https://www.codechef.com/problems/AGELIMIT\n",
      "17      https://www.codechef.com/problems/EQUALDIST\n",
      "18        https://www.codechef.com/problems/CBSPEED\n",
      "19    https://www.codechef.com/problems/CCHOCOLATES\n",
      "20     https://www.codechef.com/problems/POPULATION\n",
      "21            https://www.codechef.com/problems/RPD\n",
      "22        https://www.codechef.com/problems/MOTU001\n",
      "23         https://www.codechef.com/problems/GOC202\n",
      "24       https://www.codechef.com/problems/CHEFSTRT\n",
      "25       https://www.codechef.com/problems/PPATTERN\n",
      "26        https://www.codechef.com/problems/ITGUY37\n",
      "27          https://www.codechef.com/problems/BC103\n",
      "28        https://www.codechef.com/problems/SWASTIK\n",
      "29       https://www.codechef.com/problems/SYNSARA2\n",
      "30          https://www.codechef.com/problems/TRACE\n",
      "31          https://www.codechef.com/problems/BC204\n",
      "32          https://www.codechef.com/problems/DSLA3\n",
      "33        https://www.codechef.com/problems/ARRAY_1\n",
      "34          https://www.codechef.com/problems/COINS\n",
      "35       https://www.codechef.com/problems/MIXTURES\n",
      "36           https://www.codechef.com/problems/MENU\n",
      "37        https://www.codechef.com/problems/TCTCTOE\n",
      "38         https://www.codechef.com/problems/FIRESC\n",
      "39       https://www.codechef.com/problems/PATHSUMS\n",
      "40        https://www.codechef.com/problems/TREECLR\n",
      "41       https://www.codechef.com/problems/MINESWPR\n",
      "42        https://www.codechef.com/problems/DIGJUMP\n",
      "43         https://www.codechef.com/problems/STACKS\n",
      "44       https://www.codechef.com/problems/SUDBOOKS\n",
      "45       https://www.codechef.com/problems/LUNCHTIM\n",
      "46         https://www.codechef.com/problems/CLCO01\n",
      "47         https://www.codechef.com/problems/THESAV\n",
      "48         https://www.codechef.com/problems/BAKERY\n",
      "49        https://www.codechef.com/problems/TEMPQUE\n",
      "50       https://www.codechef.com/problems/WASHHAND\n",
      "51          https://www.codechef.com/problems/DSLA1\n",
      "52          https://www.codechef.com/problems/REVLL\n",
      "53       https://www.codechef.com/problems/MIDLE003\n",
      "54          https://www.codechef.com/problems/XYSTR\n",
      "55         https://www.codechef.com/problems/SUBINC\n",
      "56        https://www.codechef.com/problems/ALTARAY\n",
      "57        https://www.codechef.com/problems/CHEFWED\n",
      "Name: Link, dtype: object\n",
      "['DISCNT', 'MILEAGE', 'HOTCOLD', 'MAXTASTE', 'FAIRPASS', 'FILLCANDIES', 'CHEFONDATE', 'CHESSTIME', 'CNTWRD', 'M1ENROL', 'BESTOFTWO', 'CHANGEPOS', 'BIRYANI', 'AIRHOCKEY', 'BURGERS', 'WAITTIME', 'AGELIMIT', 'EQUALDIST', 'CBSPEED', 'CCHOCOLATES', 'POPULATION', 'RPD', 'MOTU001', 'GOC202', 'CHEFSTRT', 'PPATTERN', 'ITGUY37', 'BC103', 'SWASTIK', 'SYNSARA2', 'TRACE', 'BC204', 'DSLA3', 'ARRAY_1', 'COINS', 'MIXTURES', 'MENU', 'TCTCTOE', 'FIRESC', 'PATHSUMS', 'TREECLR', 'MINESWPR', 'DIGJUMP', 'STACKS', 'SUDBOOKS', 'LUNCHTIM', 'CLCO01', 'THESAV', 'BAKERY', 'TEMPQUE', 'WASHHAND', 'DSLA1', 'REVLL', 'MIDLE003', 'XYSTR', 'SUBINC', 'ALTARAY', 'CHEFWED']\n"
     ]
    }
   ],
   "source": [
    "import pandas as pd\n",
    "\n",
    "df = pd.read_excel('path\\\\to\\\\file.xlsx')\n",
    "\n",
    "# Print the first few rows of the DataFrame\n",
    "Links=(df[:][\"Link\"])\n",
    "TotalData=[]\n",
    "columns_data=[\"UniversityId\",\"Name\",\"Department\",\"Year\"]\n",
    "problem_names=[]\n",
    "for i in Links:\n",
    "  if i.startswith('https://www.codechef.com/problems/'):\n",
    "    problem_names.append(i.replace('https://www.codechef.com/problems/', ''))\n",
    "    columns_data.append(i.replace('https://www.codechef.com/problems/', ''))\n",
    "print(Links)\n",
    "print(problem_names)\n",
    "TotalData.append(columns_data)\n"
   ]
  },
  {
   "cell_type": "code",
   "execution_count": 46,
   "metadata": {
    "id": "kpBHsC3EitAu"
   },
   "outputs": [],
   "source": [
    "# Change the name of the file accourding to your file\n",
    "df = pd.read_csv('CSE_1YSEC7_handles.csv')\n",
    "ids=list(df[:][\"University ID\"])\n",
    "names=list(df[:][\"Name\"])\n",
    "department=list(df[:][\"Department\"])\n",
    "year=list(df[:][\"Year\"])\n",
    "codeChef=list(df[:][\"codeChefUrl\"])\n"
   ]
  },
  {
   "cell_type": "code",
   "execution_count": 25,
   "metadata": {
    "colab": {
     "base_uri": "https://localhost:8080/",
     "height": 35
    },
    "id": "SQMKTTMTEhPF",
    "outputId": "f1600525-a001-4fde-e82e-3d72b8d1e293"
   },
   "outputs": [
    {
     "data": {
      "application/vnd.google.colaboratory.intrinsic+json": {
       "type": "string"
      },
      "text/plain": [
       "'s_2210030001'"
      ]
     },
     "execution_count": 25,
     "metadata": {},
     "output_type": "execute_result"
    }
   ],
   "source": [
    "codeChef[0]"
   ]
  },
  {
   "cell_type": "code",
   "execution_count": 43,
   "metadata": {
    "id": "1eReI7kjqLxi"
   },
   "outputs": [],
   "source": [
    "from sqlalchemy import null\n",
    "import requests\n",
    "from bs4 import BeautifulSoup\n",
    "for i in range(0,len(ids)):\n",
    "  username = codeChef[i]\n",
    "  if(username!=null or username!=\"\"):\n",
    "    url = f\"https://www.codechef.com/users/{username}\"\n",
    "\n",
    "    response = requests.get(url)\n",
    "    ProblemSolved=[]\n",
    "\n",
    "    if response.status_code == 200:\n",
    "      # Parse the HTML content\n",
    "      soup = BeautifulSoup(response.text, 'html.parser')\n",
    "\n",
    "      # Find all <article> elements\n",
    "      articles = soup.find_all('article')\n",
    "\n",
    "      # Extract and print the text data within <p> elements inside each <article>\n",
    "      for article in articles:\n",
    "        p_elements = article.find_all('p')\n",
    "        for p in p_elements:\n",
    "          text_data = p.get_text()\n",
    "          x=text_data.split(\":\")[1].split(\", \")\n",
    "          x[0]=x[0].replace('\\xa0','')\n",
    "          ProblemSolved=ProblemSolved+x;\n",
    "          #print(x)\n",
    "    else:\n",
    "      print(f\"Failed to retrieve data. Status code: {response.status_code}\")\n",
    "\n",
    "    ans=[]\n",
    "    ans.append(ids[i])\n",
    "    ans.append(names[i])\n",
    "    ans.append(department[i])\n",
    "    ans.append(year[i])\n",
    "    for i in problem_names:\n",
    "      if i in ProblemSolved:\n",
    "        ans.append(\"Yes\")\n",
    "      else:\n",
    "        ans.append(\"No\")\n",
    "    TotalData.append(ans)\n"
   ]
  },
  {
   "cell_type": "code",
   "execution_count": null,
   "metadata": {
    "colab": {
     "base_uri": "https://localhost:8080/"
    },
    "id": "JCgxnmyOs8Kl",
    "outputId": "3c03c78d-72d7-47f8-f15a-1203180e62c4"
   },
   "outputs": [
    {
     "name": "stdout",
     "output_type": "stream",
     "text": [
      "[['UniversityId', 'Name', 'Department', 'Year', 'DISCNT', 'MILEAGE', 'HOTCOLD', 'MAXTASTE', 'FAIRPASS', 'FILLCANDIES', 'CHEFONDATE', 'CHESSTIME', 'CNTWRD', 'M1ENROL', 'BESTOFTWO', 'CHANGEPOS', 'BIRYANI', 'AIRHOCKEY', 'BURGERS', 'WAITTIME', 'AGELIMIT', 'EQUALDIST', 'CBSPEED', 'CCHOCOLATES', 'POPULATION', 'RPD', 'MOTU001', 'GOC202', 'CHEFSTRT', 'PPATTERN', 'ITGUY37', 'BC103', 'SWASTIK', 'SYNSARA2', 'TRACE', 'BC204', 'DSLA3', 'ARRAY_1'], [2210080002, 'DURGAMPUDI LEENA REDDY', 'AI&DS', 1, 'Yes', 'Yes', 'Yes', 'Yes', 'Yes', 'Yes', 'Yes', 'Yes', 'Yes', 'Yes', 'Yes', 'Yes', 'Yes', 'Yes', 'Yes', 'Yes', 'Yes', 'Yes', 'Yes', 'Yes', 'Yes', 'Yes', 'No', 'No', 'No', 'Yes', 'No', 'Yes', 'Yes', 'No', 'No', 'No', 'No', 'No'], [2210080003, 'AKSHITHA BAVISETTI', 'AI&DS', 1, 'Yes', 'No', 'Yes', 'Yes', 'Yes', 'Yes', 'Yes', 'Yes', 'Yes', 'Yes', 'Yes', 'Yes', 'Yes', 'Yes', 'Yes', 'Yes', 'Yes', 'Yes', 'Yes', 'Yes', 'Yes', 'No', 'No', 'No', 'No', 'No', 'No', 'No', 'No', 'No', 'No', 'No', 'No', 'No'], [2210080004, 'M V NAGA SIVA PAVAN SUJIT REDDY', 'AI&DS', 1, 'Yes', 'Yes', 'Yes', 'Yes', 'Yes', 'Yes', 'Yes', 'Yes', 'Yes', 'Yes', 'Yes', 'Yes', 'Yes', 'Yes', 'Yes', 'Yes', 'Yes', 'Yes', 'Yes', 'Yes', 'Yes', 'No', 'No', 'No', 'No', 'Yes', 'Yes', 'Yes', 'No', 'Yes', 'No', 'No', 'No', 'No'], [2210080005, 'UDATHA RAKESH KUMAR', 'AI&DS', 1, 'Yes', 'No', 'Yes', 'No', 'Yes', 'No', 'Yes', 'Yes', 'Yes', 'Yes', 'Yes', 'No', 'Yes', 'Yes', 'Yes', 'Yes', 'Yes', 'Yes', 'No', 'Yes', 'Yes', 'No', 'No', 'No', 'No', 'No', 'No', 'No', 'No', 'No', 'No', 'No', 'No', 'No'], [2210080006, 'M KARTHIKEYAN', 'AI&DS', 1, 'No', 'No', 'No', 'No', 'No', 'No', 'No', 'No', 'No', 'No', 'No', 'No', 'No', 'No', 'No', 'No', 'No', 'No', 'No', 'No', 'No', 'No', 'No', 'No', 'No', 'No', 'No', 'No', 'No', 'No', 'No', 'No', 'No', 'No'], [2210080007, 'N DHEERAJ', 'AI&DS', 1, 'Yes', 'No', 'Yes', 'No', 'Yes', 'No', 'Yes', 'Yes', 'Yes', 'Yes', 'Yes', 'No', 'Yes', 'Yes', 'Yes', 'Yes', 'Yes', 'Yes', 'Yes', 'Yes', 'Yes', 'No', 'No', 'No', 'No', 'No', 'No', 'No', 'No', 'No', 'No', 'No', 'No', 'No'], [2210080008, 'ALLA UJWAL SAI', 'AI&DS', 1, 'No', 'No', 'No', 'No', 'No', 'No', 'No', 'No', 'No', 'No', 'No', 'No', 'Yes', 'No', 'Yes', 'No', 'Yes', 'No', 'No', 'No', 'No', 'No', 'No', 'No', 'No', 'No', 'No', 'No', 'No', 'No', 'No', 'No', 'No', 'No'], [2210080009, 'I GEETA SAI SAHASRA', 'AI&DS', 1, 'Yes', 'Yes', 'Yes', 'No', 'Yes', 'Yes', 'Yes', 'Yes', 'Yes', 'Yes', 'Yes', 'No', 'Yes', 'Yes', 'Yes', 'Yes', 'No', 'Yes', 'Yes', 'Yes', 'Yes', 'Yes', 'No', 'No', 'No', 'Yes', 'Yes', 'Yes', 'Yes', 'Yes', 'No', 'No', 'No', 'No'], [2210080010, 'SONIA JANYAVULA', 'AI&DS', 1, 'No', 'No', 'No', 'No', 'No', 'No', 'No', 'No', 'No', 'No', 'Yes', 'No', 'Yes', 'No', 'Yes', 'No', 'No', 'No', 'No', 'No', 'No', 'No', 'No', 'No', 'No', 'No', 'No', 'No', 'No', 'No', 'No', 'No', 'No', 'No'], [2210080011, 'MOHAMMAD YAKUB', 'AI&DS', 1, 'No', 'No', 'No', 'No', 'No', 'No', 'No', 'No', 'No', 'No', 'No', 'No', 'No', 'No', 'No', 'No', 'Yes', 'No', 'No', 'No', 'No', 'Yes', 'No', 'No', 'No', 'No', 'No', 'No', 'No', 'No', 'No', 'No', 'No', 'No'], [2210080012, 'LANGATI GANESH KUMAR REDDY', 'AI&DS', 1, 'Yes', 'No', 'Yes', 'Yes', 'Yes', 'No', 'Yes', 'Yes', 'Yes', 'Yes', 'Yes', 'No', 'Yes', 'No', 'Yes', 'Yes', 'No', 'Yes', 'Yes', 'Yes', 'Yes', 'No', 'No', 'No', 'No', 'No', 'No', 'No', 'No', 'No', 'No', 'No', 'No', 'No'], [2210080013, 'ABHAY ANJANEYAVALLABH KOKA', 'AI&DS', 1, 'Yes', 'Yes', 'Yes', 'Yes', 'Yes', 'Yes', 'Yes', 'Yes', 'Yes', 'Yes', 'Yes', 'Yes', 'Yes', 'Yes', 'Yes', 'Yes', 'Yes', 'Yes', 'Yes', 'Yes', 'Yes', 'No', 'No', 'No', 'No', 'No', 'No', 'No', 'No', 'No', 'No', 'No', 'No', 'No'], [2210080014, 'KOMMAREDDY DIANA MARY', 'AI&DS', 1, 'Yes', 'Yes', 'Yes', 'No', 'Yes', 'No', 'Yes', 'Yes', 'Yes', 'Yes', 'Yes', 'No', 'Yes', 'No', 'Yes', 'Yes', 'Yes', 'Yes', 'No', 'Yes', 'Yes', 'No', 'No', 'No', 'No', 'No', 'No', 'No', 'No', 'No', 'No', 'No', 'No', 'No'], [2210080015, 'GANGALA SRAVANTHI', 'AI&DS', 1, 'Yes', 'No', 'Yes', 'No', 'No', 'No', 'No', 'No', 'Yes', 'No', 'Yes', 'No', 'No', 'No', 'No', 'No', 'No', 'No', 'No', 'Yes', 'No', 'No', 'No', 'No', 'No', 'Yes', 'No', 'No', 'No', 'No', 'No', 'No', 'No', 'No'], [2210080016, 'PITLA GOWTHAM', 'AI&DS', 1, 'Yes', 'No', 'Yes', 'Yes', 'Yes', 'No', 'Yes', 'Yes', 'Yes', 'Yes', 'Yes', 'No', 'Yes', 'Yes', 'Yes', 'Yes', 'Yes', 'Yes', 'Yes', 'Yes', 'Yes', 'No', 'No', 'No', 'No', 'No', 'No', 'No', 'No', 'No', 'No', 'No', 'No', 'No'], [2210080017, 'M V ABHISHEK', 'AI&DS', 1, 'Yes', 'No', 'No', 'No', 'No', 'No', 'Yes', 'No', 'Yes', 'No', 'Yes', 'No', 'Yes', 'Yes', 'Yes', 'Yes', 'Yes', 'Yes', 'Yes', 'Yes', 'Yes', 'No', 'No', 'No', 'No', 'No', 'No', 'No', 'No', 'No', 'No', 'No', 'No', 'No'], [2210080018, 'KOMMU SHANMUKH', 'AI&DS', 1, 'Yes', 'No', 'Yes', 'Yes', 'Yes', 'Yes', 'Yes', 'Yes', 'Yes', 'Yes', 'Yes', 'Yes', 'Yes', 'Yes', 'Yes', 'Yes', 'Yes', 'Yes', 'Yes', 'Yes', 'Yes', 'No', 'No', 'No', 'No', 'No', 'No', 'No', 'No', 'No', 'No', 'No', 'No', 'No'], [2210080019, 'SUTAPALLI MUKUNDA RAGHURAM', 'AI&DS', 1, 'Yes', 'No', 'Yes', 'No', 'Yes', 'No', 'Yes', 'Yes', 'Yes', 'Yes', 'Yes', 'No', 'Yes', 'Yes', 'Yes', 'Yes', 'Yes', 'Yes', 'Yes', 'Yes', 'Yes', 'No', 'No', 'No', 'No', 'No', 'No', 'No', 'No', 'No', 'No', 'No', 'No', 'No'], [2210080020, 'KOLIMALLI MAHI MANUSHA', 'AI&DS', 1, 'Yes', 'No', 'Yes', 'Yes', 'No', 'No', 'No', 'No', 'No', 'No', 'No', 'Yes', 'No', 'No', 'No', 'No', 'Yes', 'No', 'No', 'Yes', 'No', 'No', 'No', 'No', 'No', 'Yes', 'Yes', 'Yes', 'Yes', 'Yes', 'No', 'No', 'No', 'No'], [2210080021, 'BATTULA CHINMAYEE REDDY', 'AI&DS', 1, 'Yes', 'No', 'Yes', 'No', 'No', 'No', 'No', 'No', 'No', 'No', 'Yes', 'No', 'Yes', 'No', 'Yes', 'No', 'Yes', 'No', 'No', 'Yes', 'No', 'Yes', 'No', 'No', 'No', 'Yes', 'Yes', 'Yes', 'Yes', 'Yes', 'No', 'No', 'No', 'No'], [2210080022, 'P ANANYA', 'AI&DS', 1, 'No', 'No', 'Yes', 'No', 'Yes', 'No', 'Yes', 'Yes', 'Yes', 'Yes', 'Yes', 'No', 'Yes', 'Yes', 'Yes', 'Yes', 'Yes', 'Yes', 'Yes', 'Yes', 'Yes', 'No', 'No', 'No', 'No', 'Yes', 'Yes', 'No', 'No', 'No', 'No', 'No', 'No', 'No'], [2210080023, 'DUDAM RACHANA', 'AI&DS', 1, 'No', 'No', 'No', 'No', 'Yes', 'No', 'Yes', 'Yes', 'Yes', 'Yes', 'Yes', 'No', 'Yes', 'Yes', 'Yes', 'Yes', 'No', 'Yes', 'Yes', 'No', 'Yes', 'No', 'No', 'No', 'No', 'No', 'No', 'No', 'No', 'No', 'No', 'No', 'No', 'No'], [2210080024, 'MANCHARLA KARTHIK REDDY', 'AI&DS', 1, 'Yes', 'No', 'Yes', 'Yes', 'Yes', 'Yes', 'Yes', 'Yes', 'Yes', 'Yes', 'Yes', 'Yes', 'Yes', 'Yes', 'Yes', 'Yes', 'Yes', 'Yes', 'Yes', 'Yes', 'Yes', 'No', 'No', 'No', 'No', 'No', 'No', 'No', 'No', 'No', 'No', 'No', 'No', 'No'], [2210080025, 'SOMALITA PRIYADARSHINEE', 'AI&DS', 1, 'Yes', 'No', 'Yes', 'Yes', 'Yes', 'No', 'Yes', 'Yes', 'Yes', 'Yes', 'Yes', 'No', 'Yes', 'Yes', 'Yes', 'Yes', 'Yes', 'Yes', 'Yes', 'Yes', 'Yes', 'No', 'No', 'No', 'No', 'No', 'No', 'No', 'No', 'No', 'No', 'No', 'No', 'No'], [2210080026, 'TURPU NAGA SATHYA REDDY', 'AI&DS', 1, 'Yes', 'No', 'Yes', 'Yes', 'Yes', 'Yes', 'Yes', 'Yes', 'Yes', 'Yes', 'Yes', 'Yes', 'Yes', 'Yes', 'Yes', 'Yes', 'Yes', 'Yes', 'Yes', 'Yes', 'Yes', 'No', 'No', 'No', 'No', 'No', 'No', 'No', 'No', 'No', 'No', 'No', 'No', 'No'], [2210080027, 'VENKATA SURYA ABBURI', 'AI&DS', 1, 'No', 'No', 'No', 'No', 'No', 'No', 'No', 'No', 'No', 'No', 'No', 'No', 'No', 'No', 'No', 'No', 'No', 'No', 'No', 'No', 'No', 'No', 'No', 'No', 'No', 'No', 'No', 'No', 'No', 'No', 'No', 'No', 'No', 'No'], [2210080028, 'DADE SAICHARAN', 'AI&DS', 1, 'No', 'No', 'Yes', 'No', 'Yes', 'No', 'Yes', 'No', 'Yes', 'Yes', 'Yes', 'No', 'Yes', 'Yes', 'Yes', 'Yes', 'Yes', 'No', 'Yes', 'Yes', 'Yes', 'No', 'No', 'No', 'No', 'No', 'No', 'No', 'No', 'No', 'No', 'No', 'No', 'No'], [2210080029, 'SUNKARA SRUJAN BHARGAV', 'AI&DS', 1, 'Yes', 'No', 'No', 'No', 'Yes', 'No', 'Yes', 'Yes', 'Yes', 'Yes', 'Yes', 'No', 'Yes', 'Yes', 'Yes', 'Yes', 'Yes', 'Yes', 'Yes', 'No', 'No', 'No', 'No', 'No', 'No', 'No', 'No', 'No', 'No', 'No', 'No', 'No', 'No', 'No'], [2210080030, 'VENKATA SARATH BHUSHAN POLISETTI', 'AI&DS', 1, 'Yes', 'No', 'Yes', 'Yes', 'Yes', 'Yes', 'Yes', 'Yes', 'Yes', 'Yes', 'Yes', 'Yes', 'Yes', 'Yes', 'Yes', 'Yes', 'Yes', 'Yes', 'Yes', 'Yes', 'Yes', 'No', 'No', 'No', 'No', 'No', 'No', 'No', 'No', 'No', 'No', 'No', 'No', 'No'], [2210080031, 'ATLA BHUVANIKA', 'AI&DS', 1, 'Yes', 'No', 'Yes', 'Yes', 'Yes', 'No', 'Yes', 'Yes', 'Yes', 'Yes', 'Yes', 'No', 'Yes', 'Yes', 'Yes', 'Yes', 'Yes', 'Yes', 'Yes', 'Yes', 'Yes', 'No', 'No', 'No', 'No', 'Yes', 'No', 'No', 'No', 'No', 'No', 'No', 'No', 'No'], [2210080032, 'GUNDELLY SIDDARTHA YADAV', 'AI&DS', 1, 'No', 'No', 'No', 'No', 'Yes', 'No', 'No', 'No', 'No', 'No', 'No', 'No', 'No', 'Yes', 'Yes', 'No', 'Yes', 'No', 'No', 'No', 'No', 'No', 'No', 'No', 'No', 'No', 'No', 'No', 'No', 'No', 'No', 'No', 'No', 'No'], [2210080033, 'R MADHUNI RAJENDIRAN', 'AI&DS', 1, 'Yes', 'No', 'Yes', 'No', 'Yes', 'Yes', 'Yes', 'Yes', 'Yes', 'Yes', 'Yes', 'No', 'Yes', 'No', 'Yes', 'Yes', 'Yes', 'Yes', 'Yes', 'Yes', 'Yes', 'No', 'No', 'No', 'No', 'No', 'No', 'No', 'No', 'No', 'No', 'No', 'No', 'No'], [2210080034, 'MANNE JYOTHI', 'AI&DS', 1, 'No', 'No', 'No', 'No', 'No', 'No', 'No', 'No', 'No', 'No', 'Yes', 'No', 'Yes', 'No', 'Yes', 'No', 'Yes', 'No', 'Yes', 'No', 'No', 'No', 'No', 'No', 'No', 'No', 'No', 'No', 'No', 'No', 'No', 'No', 'No', 'No'], [2210080035, 'BATHULA MADHU', 'AI&DS', 1, 'No', 'No', 'Yes', 'No', 'Yes', 'No', 'No', 'Yes', 'No', 'Yes', 'No', 'No', 'Yes', 'No', 'Yes', 'No', 'Yes', 'Yes', 'No', 'No', 'No', 'No', 'No', 'No', 'No', 'No', 'No', 'No', 'No', 'No', 'No', 'No', 'No', 'No'], [2210080036, 'M S H SREENIDHI SHARMA', 'AI&DS', 1, 'No', 'No', 'No', 'No', 'No', 'No', 'No', 'No', 'No', 'No', 'No', 'No', 'No', 'No', 'No', 'No', 'No', 'No', 'No', 'No', 'No', 'No', 'No', 'No', 'No', 'No', 'No', 'No', 'No', 'No', 'No', 'No', 'No', 'No'], [2210080037, 'GADDAM THRISHUL REDDY', 'AI&DS', 1, 'No', 'No', 'Yes', 'No', 'No', 'Yes', 'No', 'No', 'No', 'No', 'Yes', 'Yes', 'No', 'No', 'No', 'No', 'Yes', 'No', 'No', 'No', 'No', 'No', 'No', 'No', 'No', 'No', 'No', 'No', 'No', 'No', 'No', 'No', 'No', 'No'], [2210080038, 'ABHAYA ADITYA CH', 'AI&DS', 1, 'Yes', 'No', 'Yes', 'Yes', 'Yes', 'Yes', 'Yes', 'Yes', 'Yes', 'Yes', 'Yes', 'Yes', 'Yes', 'Yes', 'Yes', 'Yes', 'Yes', 'Yes', 'Yes', 'Yes', 'Yes', 'No', 'No', 'No', 'No', 'No', 'No', 'No', 'No', 'No', 'No', 'No', 'No', 'No'], [2210080039, 'MUDEMELLA ABHINAV GOUD', 'AI&DS', 1, 'Yes', 'No', 'Yes', 'No', 'Yes', 'No', 'Yes', 'Yes', 'Yes', 'Yes', 'Yes', 'No', 'Yes', 'No', 'Yes', 'Yes', 'Yes', 'Yes', 'Yes', 'Yes', 'No', 'No', 'No', 'No', 'No', 'No', 'No', 'No', 'No', 'No', 'No', 'No', 'No', 'No'], [2210080040, 'CHAPALA AKHILA', 'AI&DS', 1, 'Yes', 'No', 'Yes', 'Yes', 'Yes', 'Yes', 'Yes', 'Yes', 'Yes', 'Yes', 'Yes', 'Yes', 'Yes', 'Yes', 'Yes', 'Yes', 'Yes', 'Yes', 'Yes', 'Yes', 'Yes', 'No', 'No', 'No', 'No', 'Yes', 'No', 'No', 'No', 'No', 'No', 'No', 'No', 'No'], [2210080041, 'THOKALA SHREYAS', 'AI&DS', 1, 'No', 'No', 'No', 'No', 'No', 'No', 'No', 'No', 'No', 'No', 'No', 'No', 'No', 'No', 'No', 'No', 'No', 'No', 'No', 'No', 'No', 'No', 'No', 'No', 'No', 'No', 'No', 'No', 'No', 'No', 'No', 'No', 'No', 'No'], [2210080042, 'T PUNITH', 'AI&DS', 1, 'Yes', 'No', 'Yes', 'No', 'Yes', 'No', 'Yes', 'Yes', 'Yes', 'Yes', 'Yes', 'No', 'Yes', 'No', 'No', 'Yes', 'Yes', 'Yes', 'Yes', 'Yes', 'Yes', 'No', 'No', 'No', 'No', 'No', 'No', 'No', 'No', 'No', 'No', 'No', 'No', 'No'], [2210080043, 'REVANTH GUTHULA', 'AI&DS', 1, 'Yes', 'No', 'No', 'No', 'No', 'No', 'Yes', 'No', 'No', 'No', 'No', 'No', 'Yes', 'No', 'Yes', 'No', 'Yes', 'No', 'No', 'No', 'Yes', 'No', 'No', 'No', 'No', 'No', 'No', 'No', 'No', 'No', 'No', 'No', 'No', 'No'], [2210080044, 'B VISHNU VARDHAN REDDY', 'AI&DS', 1, 'No', 'No', 'No', 'No', 'No', 'No', 'No', 'No', 'No', 'No', 'No', 'No', 'Yes', 'No', 'No', 'No', 'Yes', 'No', 'No', 'No', 'No', 'No', 'No', 'No', 'No', 'No', 'No', 'No', 'No', 'No', 'No', 'No', 'No', 'No'], [2210080045, 'PASUPULETI LIKITH', 'AI&DS', 1, 'Yes', 'No', 'Yes', 'No', 'Yes', 'No', 'Yes', 'Yes', 'Yes', 'Yes', 'Yes', 'No', 'Yes', 'Yes', 'Yes', 'Yes', 'Yes', 'Yes', 'Yes', 'Yes', 'Yes', 'No', 'No', 'No', 'No', 'No', 'No', 'No', 'No', 'No', 'No', 'No', 'No', 'No'], [2210080046, 'NAYEENI KAUSHIK REDDY', 'AI&DS', 1, 'No', 'No', 'No', 'No', 'No', 'No', 'Yes', 'No', 'No', 'No', 'No', 'No', 'No', 'No', 'No', 'No', 'No', 'No', 'No', 'No', 'Yes', 'No', 'No', 'No', 'No', 'No', 'No', 'No', 'No', 'No', 'No', 'No', 'No', 'No'], [2210080047, 'ADDANKI DILEEP KUMAR', 'AI&DS', 1, 'No', 'No', 'No', 'No', 'No', 'No', 'No', 'No', 'No', 'No', 'No', 'No', 'No', 'No', 'No', 'No', 'No', 'No', 'No', 'No', 'No', 'No', 'No', 'No', 'No', 'No', 'No', 'No', 'No', 'No', 'No', 'No', 'No', 'No'], [2210080048, 'PALLEMPATI SRI HARSHAVARDHAN', 'AI&DS', 1, 'Yes', 'No', 'Yes', 'No', 'Yes', 'No', 'Yes', 'Yes', 'Yes', 'Yes', 'Yes', 'No', 'Yes', 'Yes', 'Yes', 'Yes', 'Yes', 'Yes', 'Yes', 'Yes', 'Yes', 'No', 'No', 'No', 'No', 'No', 'No', 'No', 'No', 'No', 'No', 'No', 'No', 'No'], [2210080049, 'ALLADA SANJNA', 'AI&DS', 1, 'Yes', 'No', 'Yes', 'No', 'Yes', 'No', 'Yes', 'Yes', 'Yes', 'Yes', 'Yes', 'No', 'Yes', 'Yes', 'Yes', 'Yes', 'Yes', 'Yes', 'Yes', 'Yes', 'Yes', 'No', 'No', 'No', 'No', 'No', 'No', 'No', 'No', 'No', 'No', 'No', 'No', 'No'], [2210080050, 'PADMA SREEJA', 'AI&DS', 1, 'Yes', 'No', 'Yes', 'No', 'Yes', 'No', 'Yes', 'Yes', 'Yes', 'Yes', 'Yes', 'No', 'Yes', 'Yes', 'Yes', 'No', 'Yes', 'Yes', 'Yes', 'Yes', 'Yes', 'No', 'No', 'No', 'No', 'No', 'No', 'No', 'No', 'No', 'No', 'No', 'No', 'No'], [2210080051, 'SYED AQUIB ATEEQ', 'AI&DS', 1, 'No', 'No', 'No', 'No', 'Yes', 'No', 'Yes', 'Yes', 'Yes', 'Yes', 'Yes', 'No', 'Yes', 'Yes', 'Yes', 'Yes', 'Yes', 'Yes', 'Yes', 'No', 'Yes', 'No', 'No', 'No', 'No', 'No', 'No', 'No', 'No', 'No', 'No', 'No', 'No', 'No'], [2210080052, 'JANGAMGARI VISHNU VARDHAN REDDY', 'AI&DS', 1, 'Yes', 'No', 'Yes', 'Yes', 'Yes', 'Yes', 'Yes', 'Yes', 'Yes', 'Yes', 'Yes', 'Yes', 'Yes', 'Yes', 'Yes', 'Yes', 'Yes', 'Yes', 'Yes', 'Yes', 'Yes', 'No', 'No', 'No', 'No', 'No', 'No', 'No', 'No', 'No', 'No', 'No', 'No', 'No'], [2210080053, 'SEELAMSETTI LEELA KUMARI', 'AI&DS', 1, 'No', 'No', 'Yes', 'No', 'No', 'Yes', 'Yes', 'No', 'No', 'No', 'No', 'Yes', 'No', 'No', 'No', 'No', 'No', 'No', 'No', 'No', 'Yes', 'No', 'No', 'No', 'No', 'No', 'No', 'No', 'No', 'No', 'No', 'No', 'No', 'No'], [2210080054, 'SEELAMSETTI PUSHPA RANI', 'AI&DS', 1, 'No', 'No', 'No', 'No', 'No', 'No', 'No', 'No', 'No', 'No', 'No', 'No', 'No', 'No', 'No', 'No', 'No', 'No', 'No', 'No', 'No', 'No', 'No', 'No', 'No', 'No', 'No', 'No', 'No', 'No', 'No', 'No', 'No', 'No'], [2210080055, 'PAVAN JOSHI', 'AI&DS', 1, 'Yes', 'No', 'Yes', 'No', 'Yes', 'No', 'Yes', 'Yes', 'Yes', 'Yes', 'Yes', 'No', 'Yes', 'Yes', 'Yes', 'Yes', 'Yes', 'Yes', 'Yes', 'No', 'Yes', 'Yes', 'No', 'No', 'No', 'Yes', 'Yes', 'No', 'Yes', 'No', 'No', 'No', 'No', 'No'], [2210080056, 'DADUVAY MEGGAMSH', 'AI&DS', 1, 'Yes', 'Yes', 'Yes', 'Yes', 'Yes', 'Yes', 'Yes', 'Yes', 'Yes', 'Yes', 'Yes', 'Yes', 'Yes', 'Yes', 'Yes', 'Yes', 'Yes', 'Yes', 'Yes', 'Yes', 'Yes', 'No', 'No', 'No', 'No', 'Yes', 'Yes', 'No', 'Yes', 'No', 'No', 'No', 'No', 'No'], [2210080057, 'G RISHINEHA', 'AI&DS', 1, 'No', 'No', 'No', 'No', 'No', 'No', 'Yes', 'No', 'No', 'No', 'No', 'No', 'Yes', 'No', 'Yes', 'No', 'Yes', 'No', 'No', 'No', 'Yes', 'No', 'No', 'No', 'No', 'Yes', 'No', 'No', 'No', 'No', 'No', 'No', 'No', 'No'], [2210080058, 'DEVARAKONDA SAI PRATHUSHA', 'AI&DS', 1, 'No', 'No', 'No', 'No', 'No', 'No', 'No', 'No', 'No', 'No', 'No', 'No', 'No', 'No', 'No', 'No', 'No', 'No', 'No', 'No', 'No', 'No', 'No', 'No', 'No', 'No', 'No', 'No', 'No', 'No', 'No', 'No', 'No', 'No'], [2210080059, 'P VISWAGNYA', 'AI&DS', 1, 'No', 'Yes', 'Yes', 'Yes', 'Yes', 'Yes', 'Yes', 'Yes', 'Yes', 'Yes', 'Yes', 'No', 'Yes', 'Yes', 'No', 'No', 'Yes', 'No', 'Yes', 'No', 'Yes', 'No', 'No', 'No', 'No', 'No', 'No', 'No', 'No', 'No', 'No', 'No', 'No', 'No'], [2210080060, 'N RAMINI', 'AI&DS', 1, 'Yes', 'No', 'Yes', 'No', 'Yes', 'No', 'Yes', 'Yes', 'Yes', 'Yes', 'Yes', 'No', 'Yes', 'Yes', 'Yes', 'Yes', 'Yes', 'Yes', 'Yes', 'Yes', 'Yes', 'No', 'No', 'No', 'No', 'No', 'No', 'No', 'No', 'No', 'No', 'No', 'No', 'No'], [2210080061, 'G ANUNYA CHOWDARY', 'AI&DS', 1, 'No', 'No', 'No', 'No', 'No', 'No', 'No', 'No', 'No', 'No', 'No', 'No', 'No', 'No', 'No', 'No', 'No', 'No', 'No', 'No', 'No', 'No', 'No', 'No', 'No', 'No', 'No', 'No', 'No', 'No', 'No', 'No', 'No', 'No'], [2210080062, 'ARIBANDI KRISHNA CHAITANYA', 'AI&DS', 1, 'Yes', 'No', 'Yes', 'No', 'Yes', 'No', 'Yes', 'Yes', 'Yes', 'Yes', 'Yes', 'No', 'Yes', 'Yes', 'Yes', 'Yes', 'Yes', 'Yes', 'Yes', 'Yes', 'Yes', 'No', 'No', 'No', 'No', 'No', 'No', 'No', 'No', 'No', 'No', 'No', 'No', 'No'], [2210080063, 'KAGITHAPU VARUN DEV', 'AI&DS', 1, 'No', 'No', 'No', 'No', 'No', 'No', 'No', 'No', 'No', 'No', 'No', 'No', 'No', 'No', 'No', 'No', 'No', 'No', 'No', 'No', 'No', 'No', 'No', 'No', 'No', 'No', 'No', 'No', 'No', 'No', 'No', 'No', 'No', 'No'], [2210080064, 'MIDDEVULKUNDKAR ADITYA', 'AI&DS', 1, 'Yes', 'Yes', 'Yes', 'Yes', 'Yes', 'No', 'Yes', 'Yes', 'Yes', 'Yes', 'Yes', 'No', 'Yes', 'Yes', 'Yes', 'Yes', 'Yes', 'Yes', 'Yes', 'Yes', 'Yes', 'No', 'No', 'No', 'No', 'No', 'No', 'No', 'No', 'No', 'No', 'No', 'No', 'No'], [2210080065, 'PENTAPATI HEMA SANKHAR', 'AI&DS', 1, 'Yes', 'No', 'Yes', 'Yes', 'Yes', 'Yes', 'Yes', 'Yes', 'Yes', 'Yes', 'Yes', 'Yes', 'Yes', 'Yes', 'Yes', 'Yes', 'Yes', 'Yes', 'Yes', 'Yes', 'Yes', 'No', 'No', 'No', 'No', 'No', 'No', 'No', 'No', 'No', 'No', 'No', 'No', 'No'], [2210080066, 'SUNKE SIVA ABHISHEK', 'AI&DS', 1, 'Yes', 'No', 'Yes', 'No', 'Yes', 'No', 'Yes', 'Yes', 'Yes', 'Yes', 'Yes', 'No', 'Yes', 'Yes', 'Yes', 'Yes', 'Yes', 'Yes', 'Yes', 'Yes', 'Yes', 'No', 'No', 'No', 'No', 'No', 'No', 'No', 'No', 'No', 'No', 'No', 'No', 'No'], [2210080067, 'AGASTYA LAKSHMI MAHESHWAR', 'AI&DS', 1, 'Yes', 'No', 'Yes', 'Yes', 'Yes', 'Yes', 'Yes', 'Yes', 'Yes', 'Yes', 'Yes', 'Yes', 'Yes', 'Yes', 'Yes', 'Yes', 'Yes', 'Yes', 'Yes', 'Yes', 'Yes', 'No', 'No', 'No', 'No', 'No', 'No', 'No', 'No', 'No', 'No', 'No', 'No', 'No'], [2210080068, 'VANAGARI ROHAN', 'AI&DS', 1, 'No', 'No', 'No', 'No', 'No', 'No', 'No', 'No', 'No', 'No', 'No', 'No', 'No', 'No', 'No', 'No', 'No', 'No', 'No', 'No', 'No', 'No', 'No', 'No', 'No', 'No', 'No', 'No', 'No', 'No', 'No', 'No', 'No', 'No'], [2210080069, 'LANKALAPALLI SATYA LOKESH', 'AI&DS', 1, 'Yes', 'No', 'No', 'Yes', 'Yes', 'No', 'Yes', 'Yes', 'Yes', 'Yes', 'Yes', 'No', 'Yes', 'Yes', 'Yes', 'Yes', 'Yes', 'Yes', 'Yes', 'Yes', 'Yes', 'No', 'No', 'No', 'No', 'No', 'No', 'No', 'No', 'No', 'No', 'No', 'No', 'No'], [2210080070, 'SYED AARIB PASHA', 'AI&DS', 1, 'No', 'No', 'No', 'No', 'No', 'No', 'No', 'No', 'No', 'No', 'No', 'No', 'No', 'No', 'No', 'No', 'No', 'No', 'No', 'No', 'No', 'No', 'No', 'No', 'No', 'No', 'No', 'No', 'No', 'No', 'No', 'No', 'No', 'No'], [2210080071, 'MD SEHMAN KABIR KHAN', 'AI&DS', 1, 'No', 'No', 'No', 'No', 'No', 'No', 'No', 'No', 'No', 'No', 'No', 'No', 'No', 'No', 'No', 'No', 'No', 'No', 'No', 'No', 'No', 'No', 'No', 'No', 'No', 'No', 'No', 'No', 'No', 'No', 'No', 'No', 'No', 'No'], [2210080072, nan, 'AI&DS', 1, 'Yes', 'No', 'Yes', 'No', 'Yes', 'No', 'Yes', 'Yes', 'Yes', 'Yes', 'Yes', 'No', 'Yes', 'Yes', 'No', 'Yes', 'Yes', 'Yes', 'Yes', 'Yes', 'Yes', 'No', 'No', 'No', 'No', 'No', 'No', 'No', 'No', 'No', 'No', 'No', 'No', 'No'], [2210080073, nan, 'AI&DS', 1, 'Yes', 'Yes', 'Yes', 'Yes', 'Yes', 'Yes', 'Yes', 'Yes', 'Yes', 'Yes', 'Yes', 'Yes', 'Yes', 'Yes', 'Yes', 'Yes', 'Yes', 'Yes', 'Yes', 'Yes', 'Yes', 'No', 'No', 'No', 'No', 'No', 'No', 'No', 'No', 'No', 'No', 'No', 'No', 'No'], [2210080074, nan, 'AI&DS', 1, 'No', 'No', 'No', 'No', 'Yes', 'No', 'No', 'Yes', 'Yes', 'Yes', 'Yes', 'No', 'No', 'No', 'No', 'Yes', 'No', 'Yes', 'No', 'No', 'No', 'No', 'No', 'No', 'No', 'No', 'No', 'No', 'No', 'No', 'No', 'No', 'No', 'No'], [2210080075, nan, 'AI&DS', 1, 'No', 'No', 'No', 'Yes', 'Yes', 'No', 'Yes', 'Yes', 'No', 'Yes', 'Yes', 'No', 'Yes', 'No', 'Yes', 'No', 'Yes', 'Yes', 'No', 'No', 'Yes', 'No', 'No', 'No', 'No', 'No', 'No', 'No', 'No', 'No', 'No', 'No', 'No', 'No'], [2210080076, nan, 'AI&DS', 1, 'Yes', 'No', 'Yes', 'Yes', 'Yes', 'Yes', 'Yes', 'Yes', 'Yes', 'Yes', 'Yes', 'Yes', 'Yes', 'Yes', 'Yes', 'Yes', 'Yes', 'Yes', 'Yes', 'Yes', 'Yes', 'No', 'No', 'No', 'No', 'No', 'No', 'No', 'No', 'No', 'No', 'No', 'No', 'No'], [2210080077, nan, 'AI&DS', 1, 'No', 'No', 'No', 'No', 'No', 'No', 'No', 'No', 'No', 'No', 'No', 'No', 'No', 'No', 'No', 'No', 'No', 'No', 'No', 'No', 'No', 'No', 'No', 'No', 'No', 'No', 'No', 'No', 'No', 'No', 'No', 'No', 'No', 'No']]\n"
     ]
    }
   ],
   "source": [
    "print(TotalData)"
   ]
  },
  {
   "cell_type": "code",
   "execution_count": null,
   "metadata": {
    "id": "G9L8MebRt7WE"
   },
   "outputs": [],
   "source": []
  }
 ],
 "metadata": {
  "colab": {
   "provenance": []
  },
  "kernelspec": {
   "display_name": "Python 3",
   "name": "python3"
  },
  "language_info": {
   "codemirror_mode": {
    "name": "ipython",
    "version": 3
   },
   "file_extension": ".py",
   "mimetype": "text/x-python",
   "name": "python",
   "nbconvert_exporter": "python",
   "pygments_lexer": "ipython3",
   "version": "3.11.3"
  }
 },
 "nbformat": 4,
 "nbformat_minor": 0
}
